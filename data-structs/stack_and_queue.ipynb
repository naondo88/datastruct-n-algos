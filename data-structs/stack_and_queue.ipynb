{
 "cells": [
  {
   "cell_type": "code",
   "execution_count": 1,
   "metadata": {},
   "outputs": [],
   "source": [
    "from collections import deque\n"
   ]
  },
  {
   "cell_type": "code",
   "execution_count": 2,
   "metadata": {},
   "outputs": [],
   "source": [
    "class Stack:\n",
    "    \"\"\"This is an implementation of a Stack.\"\"\"\n",
    "    \n",
    "    def __init__(self, items=tuple()):\n",
    "        self.stack = []\n",
    "        for item in items:\n",
    "            self.push(item)\n",
    "            \n",
    "    def push(self, item):\n",
    "        self.stack = [item, self.stack]\n",
    "        \n",
    "    def pop(self):\n",
    "        if self.stack:\n",
    "            item, self.stack = self.stack\n",
    "            return item\n",
    "        else:\n",
    "            raise IndexError(\"Stack is empty, cannot pop\")\n",
    "    \n",
    "    def peek(self):\n",
    "        return self.stack[0]\n",
    "    \n",
    "    def __bool__(self):\n",
    "        return bool(self.stack)\n",
    "    \n",
    "    def __repr__(self):\n",
    "        return str(self.stack)"
   ]
  },
  {
   "cell_type": "code",
   "execution_count": 3,
   "metadata": {},
   "outputs": [
    {
     "data": {
      "text/plain": [
       "[3, [2, [1, []]]]"
      ]
     },
     "execution_count": 3,
     "metadata": {},
     "output_type": "execute_result"
    }
   ],
   "source": [
    "Stack([1, 2, 3])"
   ]
  },
  {
   "cell_type": "code",
   "execution_count": 4,
   "metadata": {},
   "outputs": [
    {
     "data": {
      "text/plain": [
       "[]"
      ]
     },
     "execution_count": 4,
     "metadata": {},
     "output_type": "execute_result"
    }
   ],
   "source": [
    "Stack()"
   ]
  },
  {
   "cell_type": "code",
   "execution_count": 5,
   "metadata": {},
   "outputs": [
    {
     "data": {
      "text/plain": [
       "[3, [2, [1, []]]]"
      ]
     },
     "execution_count": 5,
     "metadata": {},
     "output_type": "execute_result"
    }
   ],
   "source": [
    "xstack = Stack([1, 2, 3])\n",
    "\n",
    "xstack"
   ]
  },
  {
   "cell_type": "code",
   "execution_count": 11,
   "metadata": {},
   "outputs": [
    {
     "name": "stdout",
     "output_type": "stream",
     "text": [
      "3\n",
      "2\n",
      "1\n"
     ]
    }
   ],
   "source": [
    "xstack = Stack()\n",
    "\n",
    "xstack.push(1)\n",
    "xstack.push(2)\n",
    "xstack.push(3)\n",
    "\n",
    "while xstack:\n",
    "    print(xstack.pop())"
   ]
  },
  {
   "cell_type": "markdown",
   "metadata": {},
   "source": [
    "---\n",
    "# Queue"
   ]
  },
  {
   "cell_type": "code",
   "execution_count": 7,
   "metadata": {},
   "outputs": [],
   "source": [
    "class Queue:\n",
    "    \"\"\"This is an implementation of a Queue.\"\"\"\n",
    "    \n",
    "    def __init__(self, items=tuple()):\n",
    "        self.items = deque(items)\n",
    "\n",
    "    def push(self, item):\n",
    "        self.items.append(item)\n",
    "        \n",
    "    def pop(self):\n",
    "        try:\n",
    "            return self.items.popleft()\n",
    "        except IndexError:\n",
    "            raise IndexError(\"cannot pop empty queue\")\n",
    "    \n",
    "    def peek(self):\n",
    "        return self.items.peekleft()\n",
    "    \n",
    "    def __bool__(self):\n",
    "        return bool(self.items)\n",
    "    \n",
    "    def __repr__(self):\n",
    "        args_str = \", \".join((str(item) for item in self.items))\n",
    "        return f\"Queue([{args_str}])\"\n"
   ]
  },
  {
   "cell_type": "code",
   "execution_count": 8,
   "metadata": {},
   "outputs": [
    {
     "name": "stdout",
     "output_type": "stream",
     "text": [
      "1\n",
      "2\n",
      "3\n"
     ]
    }
   ],
   "source": [
    "xqueue = Queue()\n",
    "\n",
    "xqueue.push(1)\n",
    "xqueue.push(2)\n",
    "xqueue.push(3)\n",
    "\n",
    "while xqueue:\n",
    "    print(xqueue.pop())"
   ]
  },
  {
   "cell_type": "code",
   "execution_count": 9,
   "metadata": {},
   "outputs": [],
   "source": [
    "class Stack:\n",
    "    \"\"\"This is an implementation of a Stack.\"\"\"\n",
    "    \n",
    "    def __init__(self, items=tuple()):\n",
    "        self.items = deque(items)\n",
    "\n",
    "    def push(self, item):\n",
    "        self.items.append(item)\n",
    "        \n",
    "    def pop(self):\n",
    "        try:\n",
    "            return self.items.pop()\n",
    "        except IndexError:\n",
    "            raise IndexError(\"cannot pop empty queue\")\n",
    "    \n",
    "    def peek(self):\n",
    "        return self.items.peekleft()\n",
    "    \n",
    "    def __bool__(self):\n",
    "        return bool(self.items)\n",
    "    \n",
    "    def __repr__(self):\n",
    "        args_str = \", \".join((str(item) for item in self.items))\n",
    "        return f\"Stack([{args_str}])\""
   ]
  },
  {
   "cell_type": "code",
   "execution_count": 10,
   "metadata": {},
   "outputs": [
    {
     "name": "stdout",
     "output_type": "stream",
     "text": [
      "3\n",
      "2\n",
      "1\n"
     ]
    }
   ],
   "source": [
    "xstack = Stack()\n",
    "\n",
    "xstack.push(1)\n",
    "xstack.push(2)\n",
    "xstack.push(3)\n",
    "\n",
    "while xstack:\n",
    "    print(xstack.pop())"
   ]
  },
  {
   "cell_type": "code",
   "execution_count": null,
   "metadata": {},
   "outputs": [],
   "source": []
  }
 ],
 "metadata": {
  "kernelspec": {
   "display_name": "Python 3",
   "language": "python",
   "name": "python3"
  },
  "language_info": {
   "codemirror_mode": {
    "name": "ipython",
    "version": 3
   },
   "file_extension": ".py",
   "mimetype": "text/x-python",
   "name": "python",
   "nbconvert_exporter": "python",
   "pygments_lexer": "ipython3",
   "version": "3.8.3"
  }
 },
 "nbformat": 4,
 "nbformat_minor": 4
}
