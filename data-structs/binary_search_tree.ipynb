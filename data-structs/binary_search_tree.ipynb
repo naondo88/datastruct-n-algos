{
 "cells": [
  {
   "cell_type": "markdown",
   "metadata": {},
   "source": [
    "# Binary Search Trees"
   ]
  },
  {
   "cell_type": "code",
   "execution_count": 1,
   "metadata": {},
   "outputs": [],
   "source": [
    "class Node:\n",
    "    def __init__(self, item, left=None, right=None):\n",
    "        self.item = item\n",
    "        self.left = left\n",
    "        self.right = right\n",
    "   \n",
    "    def __bool__(self):\n",
    "        return not (\n",
    "            self.item is None\n",
    "            and self.left is None\n",
    "            and self.right is None\n",
    "        )\n",
    "\n",
    "    def __str__(self):\n",
    "        return str(self.item)\n",
    "    \n",
    "    def __repr__(self):\n",
    "        return f\"Node({self.item}, left={self.left}, right={self.right})\"\n"
   ]
  },
  {
   "cell_type": "code",
   "execution_count": 24,
   "metadata": {},
   "outputs": [],
   "source": [
    "class BST:\n",
    "    def __init__(self, items):\n",
    "        self.root = None\n",
    "        for item in items:\n",
    "            self.push(item)\n",
    "            \n",
    "    def __contains__(self, item):\n",
    "        if self.root is None:\n",
    "            return False\n",
    "        return self._find(item, self.root)\n",
    "    \n",
    "    def _find(self, item, node):\n",
    "        if item == node.item:\n",
    "            return True\n",
    "        elif item > node.item and node.right:\n",
    "            return self._find(item, node.right)\n",
    "        elif item < node.item and node.left:\n",
    "            return self._find(item, node.left)\n",
    "        else:\n",
    "            return False\n",
    "    \n",
    "    def push(self, item):\n",
    "        if self.root is None:\n",
    "            self.root = Node(item)\n",
    "        else:\n",
    "            self._insert_recursively(item, self.root)\n",
    "\n",
    "    def _insert_recursively(self, item, node):\n",
    "        if item < node.item:\n",
    "            if node.left is None:\n",
    "                node.left = Node(item)\n",
    "            else:\n",
    "                self._insert_recursively(item, node.left)\n",
    "        elif item > node.item:\n",
    "            if node.right is None:\n",
    "                node.right = Node(item)\n",
    "            else:\n",
    "                self._insert_recursively(item, node.right)\n",
    "        else:\n",
    "            raise ValueError(f\"cannot push value {item}, already exists\")\n"
   ]
  },
  {
   "cell_type": "code",
   "execution_count": 32,
   "metadata": {},
   "outputs": [],
   "source": [
    "xtree = BST([1,3,2,7,6,8,4,5])"
   ]
  },
  {
   "cell_type": "code",
   "execution_count": 33,
   "metadata": {},
   "outputs": [
    {
     "name": "stdout",
     "output_type": "stream",
     "text": [
      "0 not in xtree\n",
      "1 in xtree\n",
      "2 in xtree\n",
      "3 in xtree\n",
      "4 in xtree\n",
      "5 in xtree\n",
      "6 in xtree\n",
      "7 in xtree\n",
      "8 in xtree\n",
      "9 not in xtree\n"
     ]
    }
   ],
   "source": [
    "for i in range(10):\n",
    "    if i in xtree:\n",
    "        print(f\"{i} in xtree\")\n",
    "    else:\n",
    "        print(f\"{i} not in xtree\")"
   ]
  },
  {
   "cell_type": "code",
   "execution_count": 67,
   "metadata": {},
   "outputs": [],
   "source": [
    "def nonrecursive_find(tree, item):\n",
    "    node = tree.root\n",
    "    \n",
    "    i = 0\n",
    "    while not (node.left is None and node.right is None):\n",
    "        print(f\"iteration {i} on Node({node})\")\n",
    "        if node.item == item:\n",
    "            print(f\"found on {node}!\")\n",
    "            break\n",
    "        elif item < node.item:\n",
    "            if node.left:\n",
    "                print(f\"item < {node}, moving onto Node({node.left})\")\n",
    "                node = node.left\n",
    "            else:\n",
    "                print(f\"item < {node}, but node.left=None\")\n",
    "                break\n",
    "        elif item > node.item and node.right:\n",
    "            if node.right:\n",
    "                print(f\"item > {node},moving onto Node({node.right})\")\n",
    "                node = node.right\n",
    "            else:\n",
    "                print(f\"item > {node}, but node.right=None\")\n",
    "                break\n",
    "        else:\n",
    "            print(f\"{i}: All cases failed.\")\n",
    "            break\n",
    "        i += 1\n",
    "\n",
    "    return node.item == item"
   ]
  },
  {
   "cell_type": "code",
   "execution_count": 69,
   "metadata": {},
   "outputs": [
    {
     "name": "stdout",
     "output_type": "stream",
     "text": [
      "iteration 0 on Node(1)\n",
      "item < 1, but node.left=None\n"
     ]
    },
    {
     "data": {
      "text/plain": [
       "False"
      ]
     },
     "execution_count": 69,
     "metadata": {},
     "output_type": "execute_result"
    }
   ],
   "source": [
    "nonrecursive_find(xtree, 0)"
   ]
  },
  {
   "cell_type": "code",
   "execution_count": 74,
   "metadata": {},
   "outputs": [],
   "source": [
    "def nonrecursive_find(tree, item):\n",
    "    node = tree.root\n",
    "    while not (node.left is None and node.right is None):\n",
    "        if node.item == item:\n",
    "            return True\n",
    "        elif item < node.item and node.left:\n",
    "                node = node.left\n",
    "        elif item > node.item and node.right:\n",
    "                node = node.right\n",
    "        else:\n",
    "            break\n",
    "    \n",
    "    return item == node.item"
   ]
  },
  {
   "cell_type": "code",
   "execution_count": 75,
   "metadata": {},
   "outputs": [
    {
     "name": "stdout",
     "output_type": "stream",
     "text": [
      "0 not in xtree\n",
      "1 in xtree\n",
      "2 in xtree\n",
      "3 in xtree\n",
      "4 in xtree\n",
      "5 in xtree\n",
      "6 in xtree\n",
      "7 in xtree\n",
      "8 in xtree\n",
      "9 not in xtree\n"
     ]
    }
   ],
   "source": [
    "for i in range(10):\n",
    "    if nonrecursive_find(xtree, i):\n",
    "        print(f\"{i} in xtree\")\n",
    "    else:\n",
    "        print(f\"{i} not in xtree\")"
   ]
  },
  {
   "cell_type": "code",
   "execution_count": null,
   "metadata": {},
   "outputs": [],
   "source": []
  }
 ],
 "metadata": {
  "kernelspec": {
   "display_name": "Python 3",
   "language": "python",
   "name": "python3"
  },
  "language_info": {
   "codemirror_mode": {
    "name": "ipython",
    "version": 3
   },
   "file_extension": ".py",
   "mimetype": "text/x-python",
   "name": "python",
   "nbconvert_exporter": "python",
   "pygments_lexer": "ipython3",
   "version": "3.8.3"
  }
 },
 "nbformat": 4,
 "nbformat_minor": 4
}
