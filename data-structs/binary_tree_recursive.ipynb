{
 "cells": [
  {
   "cell_type": "markdown",
   "metadata": {},
   "source": [
    "---\n",
    "# Binary Trees\n",
    "\n",
    "A __Binary Tree__ a data structure that segments data into levels and nodes, where each node has an item (aka 'value') and two children nodes, the left and the right.\n",
    "\n",
    "Thus, binary tree stores data in the form:\n",
    "\n",
    "```\n",
    "            1\n",
    "          /    \\\n",
    "         2      3\n",
    "       /       / \\\n",
    "      4       6   7\n",
    "```\n",
    "\n",
    "It has two major types of iteration/search/traversal, namely\n",
    "\n",
    "1. Depth-first Search: Each iteration, this goes down the levels first:\n",
    "    1. Preorder iteration:  \"Root--> Left--> Right\"\n",
    "    1. Inorder iteration:   \"Left--> Root--> Right\"\n",
    "    1. Postorder iteration: \"Left--> Right-> Root\"\n",
    "2. Breadth-frst Search: Each iteration, it goes across each level:\n",
    "    1. Level-order iteration/traversal\n"
   ]
  },
  {
   "cell_type": "code",
   "execution_count": 1,
   "metadata": {},
   "outputs": [],
   "source": [
    "from collections import deque"
   ]
  },
  {
   "cell_type": "code",
   "execution_count": 26,
   "metadata": {},
   "outputs": [],
   "source": [
    "class Node:\n",
    "    def __init__(self, item, left=None, right=None):\n",
    "        self.item = item\n",
    "        self.left = left\n",
    "        self.right = right\n",
    "        \n",
    "    def __repr__(self):\n",
    "        return f\"Node({self.item}, left={self.left}, right={self.right})\"\n",
    "\n",
    "\n",
    "class _BaseBinaryTree:\n",
    "    def __init__(self, *items):\n",
    "        \"\"\"Inserts items into BinaryTree according to breadth-first traversal.\"\"\"\n",
    "        \n",
    "        self._root = Node(items[0])\n",
    "        queue = deque([self._root])\n",
    "        i = 1\n",
    "        while i < len(items):\n",
    "            node = queue.popleft()\n",
    "            left_item = items[i]\n",
    "            right_item = items[i+1]\n",
    "            \n",
    "            if left_item is not None:\n",
    "                left_node = Node(left_item)\n",
    "                queue.append(left_node)\n",
    "                node.left = left_node\n",
    "            \n",
    "            if right_item is not None:\n",
    "                right_node = Node(right_item)\n",
    "                queue.append(right_node)\n",
    "                node.right = right_node\n",
    "                \n",
    "            i += 2\n",
    "\n",
    "    def _iterbreadth_node(self, yield_none=False):\n",
    "        queue = deque([self._root])\n",
    "        while len(queue) > 0:\n",
    "            node = queue.popleft()\n",
    "            \n",
    "            if node:\n",
    "                yield node\n",
    "                \n",
    "                if node.left or yield_none:\n",
    "                    queue.append(node.left)\n",
    "                if node.right or yield_none:\n",
    "                    queue.append(node.right)\n",
    "            else:\n",
    "                yield Node(None)\n",
    "                \n",
    "    def _iterdepth_node(self, node=\"HEAD\"):\n",
    "        \"\"\"Pre-order depth-first search.\"\"\"\n",
    "        \n",
    "        if node == \"HEAD\":\n",
    "            node = self._root\n",
    "        \n",
    "        if node:\n",
    "            yield node.item\n",
    "            yield from self._iterdepth_node(node.left)\n",
    "            yield from self._iterdepth_node(node.right)\n",
    "    \n",
    "    def __repr__(self):\n",
    "        args_str = \", \".join((str(node.item) for node in self._iterbreadth_node(yield_none=True)))\n",
    "        return f\"_BaseBinaryTree({args_str})\"\n"
   ]
  },
  {
   "cell_type": "code",
   "execution_count": 27,
   "metadata": {},
   "outputs": [
    {
     "data": {
      "text/plain": [
       "_BaseBinaryTree(1, 2, 3, None, 5, None, None, None, None)"
      ]
     },
     "execution_count": 27,
     "metadata": {},
     "output_type": "execute_result"
    }
   ],
   "source": [
    "_BaseBinaryTree(1, 2, 3, None, 5)"
   ]
  },
  {
   "cell_type": "code",
   "execution_count": 29,
   "metadata": {},
   "outputs": [
    {
     "name": "stdout",
     "output_type": "stream",
     "text": [
      "1\n",
      "2\n",
      "4\n",
      "5\n",
      "3\n",
      "6\n",
      "7\n"
     ]
    }
   ],
   "source": [
    "xbasetree = _BaseBinaryTree(1, 2, 3, 4, 5, 6, 7)\n",
    "\n",
    "for item in xbasetree._iterdepth_node():\n",
    "    print(item)"
   ]
  },
  {
   "cell_type": "code",
   "execution_count": null,
   "metadata": {},
   "outputs": [],
   "source": [
    "class BinaryTree:\n",
    "    def iterdepth(self):\n",
    "        pass\n",
    "    \n",
    "    def iterbreadth(self):\n",
    "        pass\n"
   ]
  },
  {
   "cell_type": "code",
   "execution_count": null,
   "metadata": {},
   "outputs": [],
   "source": [
    "# Example:\n",
    "\n",
    "BinaryTree(1, 2, 3, 4, None, 6, 7)"
   ]
  },
  {
   "cell_type": "code",
   "execution_count": null,
   "metadata": {},
   "outputs": [],
   "source": []
  }
 ],
 "metadata": {
  "kernelspec": {
   "display_name": "Python 3",
   "language": "python",
   "name": "python3"
  },
  "language_info": {
   "codemirror_mode": {
    "name": "ipython",
    "version": 3
   },
   "file_extension": ".py",
   "mimetype": "text/x-python",
   "name": "python",
   "nbconvert_exporter": "python",
   "pygments_lexer": "ipython3",
   "version": "3.8.3"
  }
 },
 "nbformat": 4,
 "nbformat_minor": 4
}
