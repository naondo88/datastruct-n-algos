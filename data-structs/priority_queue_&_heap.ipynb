{
 "cells": [
  {
   "cell_type": "markdown",
   "metadata": {},
   "source": [
    "# Priority Queue and Heap\n",
    "\n",
    "A __priority queue__ is an abstract data structure which operates like a queue, except that popping is done with a priority.  Elements within a priority queue must be comparable (a < b, a == b, and a > b must be defined), and the one with the highest priority will be the next popped (here, called \"polled\").   The priority is typically a max or a min (i.e. priority is which is the next biggest or next smallest, respectively).  Priority queues are typically implemented via __heaps__, defined as such:\n",
    "\n",
    "\n",
    "> A __heap__ is a tree-based DS that satisfies the __heap invariant__: If A is a parent node, then all of its children have the same comparison (less than/equal or greater than/equal) to it.\n",
    "\n",
    "\n",
    "A __max heap__ is a heap where the root is maximal, and a __min heap__ is a heap where the root is minimal.  In otherwords, a max heap is defined by being a tree with its root being the largest value, and all descendent nodes are increasingly smaller.  A min heap is the reverse:\n",
    "\n",
    "```\n",
    "   MaxHeap                          MinHeap\n",
    "      5                                0\n",
    "   4     3                          2     3\n",
    " 2   1  2                         4   5  6  4\n",
    "```\n",
    "There are other types of heaps that aren't binary, such as Fibonacci Heap, Binomial Heap, Pairing Heap, etc.  However, binary min heap is the most commonly implemented in programming languages, though Python implements it in minheap in the python standard library (heapq for functional approach on lists + queue.Queue for an OOP approach).\n",
    "\n",
    "## Use cases:\n",
    "\n",
    "1. Dijkstra's Shortest Path algorithm\n",
    "2. Concepts used in HeapSort\n",
    "3. Huffman coding (lossless data compression)\n",
    "4. Best First Search such as A*, the refinement over Dijkstra's algorithm\n",
    "5. Minimum Spanning Tree algorithm\n",
    "\n",
    "As such, __priority queues are often extremely important for working with directed graphs and graph algorithms__."
   ]
  },
  {
   "cell_type": "markdown",
   "metadata": {},
   "source": [
    "---\n",
    "# Binary Heap Implementation\n",
    "\n"
   ]
  }
 ],
 "metadata": {
  "kernelspec": {
   "display_name": "Python 3",
   "language": "python",
   "name": "python3"
  },
  "language_info": {
   "codemirror_mode": {
    "name": "ipython",
    "version": 3
   },
   "file_extension": ".py",
   "mimetype": "text/x-python",
   "name": "python",
   "nbconvert_exporter": "python",
   "pygments_lexer": "ipython3",
   "version": "3.8.3"
  }
 },
 "nbformat": 4,
 "nbformat_minor": 4
}
