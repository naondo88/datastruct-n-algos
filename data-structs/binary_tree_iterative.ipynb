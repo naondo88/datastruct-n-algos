{
 "cells": [
  {
   "cell_type": "markdown",
   "metadata": {},
   "source": [
    "# Binary Trees\n",
    "\n",
    "A __Binary Tree__ a data structure that segments data into levels and nodes, where each node has an item (aka 'value') and two children nodes, the left and the right.\n",
    "\n",
    "Thus, binary tree stores data in the form:\n",
    "\n",
    "```\n",
    "            1\n",
    "          /    \\\n",
    "         2      3\n",
    "       /       / \\\n",
    "      4       6   7\n",
    "```\n",
    "\n",
    "It has two major types of iteration/search/traversal, namely\n",
    "\n",
    "1. Depth-first Search: Each iteration, this goes down the levels first:\n",
    "    1. Preorder iteration:  \"Root--> Left--> Right\"\n",
    "    1. Inorder iteration:   \"Left--> Root--> Right\"\n",
    "    1. Postorder iteration: \"Left--> Right-> Root\"\n",
    "2. Breadth-frst Search: Each iteration, it goes across each level:\n",
    "    1. Level-order iteration/traversal\n"
   ]
  },
  {
   "cell_type": "code",
   "execution_count": 4,
   "metadata": {},
   "outputs": [],
   "source": [
    "from collections import deque"
   ]
  },
  {
   "cell_type": "code",
   "execution_count": 4,
   "metadata": {},
   "outputs": [],
   "source": [
    "class Node:\n",
    "    def __init__(self, item, left=None, right=None):\n",
    "        self.item = item\n",
    "        self.left = left\n",
    "        self.right = right\n",
    "\n",
    "    def __str__(self):\n",
    "        return str(self.item)\n",
    "    \n",
    "    def __bool__(self):\n",
    "        return not (\n",
    "            self.item is None\n",
    "            and self.left is None\n",
    "            and self.right is None\n",
    "        )\n",
    "\n",
    "    def __repr__(self):\n",
    "        return f\"Node({self.item}, left={self.left}, right={self.right})\"\n",
    "\n",
    "\n",
    "class BaseBinaryTree:\n",
    "    \"\"\"Base for BinaryTree.\n",
    "    Assumes it has `root` Node and items are inserted via bfs.\n",
    "    \"\"\"\n",
    "    \n",
    "    def __init__(self):\n",
    "        self.root = Node(None)\n",
    "        raise NotImplementedError(\"cannot call constructor of a base class.\")\n",
    "        \n",
    "    def _insert_items_bfs(self, items):\n",
    "        # Hacky check for consistency:\n",
    "        for item in items:\n",
    "            if item is None:\n",
    "                raise NotImplementedError(f\"cannot insert None type into {type(self).__name__}\")\n",
    "        \n",
    "        self.root = Node(items[0])\n",
    "        queue = deque([self.root])\n",
    "        i = 1\n",
    "        while i < len(items):\n",
    "            node = queue.popleft()\n",
    "            try:\n",
    "                left_item = items[i]\n",
    "            except IndexError:\n",
    "                left_item = None\n",
    "            \n",
    "            try:\n",
    "                right_item = items[i+1]\n",
    "            except IndexError:\n",
    "                right_item = None\n",
    "            \n",
    "            if left_item is not None:\n",
    "                left_node = Node(left_item)\n",
    "                queue.append(left_node)\n",
    "                node.left = left_node\n",
    "            \n",
    "            if right_item is not None:\n",
    "                right_node = Node(right_item)\n",
    "                queue.append(right_node)\n",
    "                node.right = right_node\n",
    "            i += 2\n",
    "            \n",
    "    \n",
    "    def __repr__(self):\n",
    "        str_items = []\n",
    "        queue = deque([self.root])\n",
    "        while len(queue) > 0:\n",
    "            node = queue.popleft()\n",
    "            if node:\n",
    "                str_items.append(str(node))\n",
    "                if node is not None:\n",
    "                    queue.append(node.left)\n",
    "                if node is not None:\n",
    "                    queue.append(node.right)\n",
    "        \n",
    "        args_str = \", \".join(str_items)\n",
    "        return f\"{type(self).__name__}({args_str})\"\n",
    "    \n",
    "    def iternodes_bfs(self):\n",
    "        \"\"\"Breadth-first node traversal.\"\"\"\n",
    "        visit_queue = deque([self.root])\n",
    "        while len(visit_queue) > 0:\n",
    "            node = visit_queue.popleft()\n",
    "            \n",
    "            if node:\n",
    "                yield node\n",
    "                \n",
    "                if node.left:\n",
    "                    visit_queue.append(node.left)\n",
    "                if node.right:\n",
    "                    visit_queue.append(node.right)\n",
    "                    \n",
    "    def iternodes_dfs(self):\n",
    "        \"\"\"Depth-first node traversal.\"\"\"\n",
    "        \n",
    "        visit_stack = deque([self.root])\n",
    "        node = self.root\n",
    "        while len(visit_stack) > 0:\n",
    "            if node:\n",
    "                yield node\n",
    "                \n",
    "                if node.right:\n",
    "                    visit_stack.append(node.right)\n",
    "                if node.left:\n",
    "                    visit_stack.append(node.left)\n",
    "            node = visit_stack.pop()"
   ]
  },
  {
   "cell_type": "markdown",
   "metadata": {},
   "source": [
    "Preorder iteration: \"Root--> Left--> Right\"\n",
    "Inorder iteration: \"Left--> Root--> Right\"\n",
    "Postorder iteration: \"Left--> Right-> Root\""
   ]
  },
  {
   "cell_type": "code",
   "execution_count": 5,
   "metadata": {},
   "outputs": [],
   "source": [
    "class BinaryTree(BaseBinaryTree):\n",
    "    def __init__(self, *items):\n",
    "        self._insert_items_bfs(items)\n",
    "    \n",
    "    def items_dfs(self):\n",
    "        for node in self._iternodes_dfs():\n",
    "            yield node.item\n",
    "    \n",
    "    def items_bfs(self):\n",
    "        for node in self._iternodes_bfs():\n",
    "            yield node.item\n"
   ]
  },
  {
   "cell_type": "code",
   "execution_count": 6,
   "metadata": {},
   "outputs": [
    {
     "name": "stdout",
     "output_type": "stream",
     "text": [
      "1\n",
      "2\n",
      "3\n",
      "4\n",
      "5\n",
      "6\n",
      "7\n"
     ]
    }
   ],
   "source": [
    "#                 1\n",
    "#             2       3\n",
    "#          4    5\n",
    "\n",
    "xtree = BinaryTree(1, 2, 3, 4, 5, 6, 7)\n",
    "\n",
    "for item in xtree.items_bfs():\n",
    "    print(item)"
   ]
  },
  {
   "cell_type": "code",
   "execution_count": 71,
   "metadata": {},
   "outputs": [
    {
     "name": "stdout",
     "output_type": "stream",
     "text": [
      "1\n",
      "2\n",
      "4\n",
      "5\n",
      "3\n",
      "6\n",
      "7\n"
     ]
    }
   ],
   "source": [
    "for item in xtree.items_dfs():\n",
    "    print(item)"
   ]
  },
  {
   "cell_type": "code",
   "execution_count": 11,
   "metadata": {},
   "outputs": [],
   "source": [
    "import math\n",
    "\n",
    "f = lambda x: math.log(x)**2 / x"
   ]
  },
  {
   "cell_type": "code",
   "execution_count": 12,
   "metadata": {},
   "outputs": [
    {
     "data": {
      "text/plain": [
       "0.00825820943121159"
      ]
     },
     "execution_count": 12,
     "metadata": {},
     "output_type": "execute_result"
    }
   ],
   "source": [
    "f(1.1)"
   ]
  },
  {
   "cell_type": "code",
   "execution_count": 16,
   "metadata": {},
   "outputs": [
    {
     "name": "stdout",
     "output_type": "stream",
     "text": [
      "10 0.5301898110478399\n",
      "100 0.21207592441913597\n",
      "1000 0.047717082994305576\n",
      "10000 0.008483036976765439\n",
      "1000000 0.0001908683319772223\n",
      "1000000000 4.2945374694875023e-07\n"
     ]
    }
   ],
   "source": [
    "for i in [10, 100, 1000, 10_000, 1_000_000, 1_000_000_000]:\n",
    "    print(i, f(i))"
   ]
  },
  {
   "cell_type": "code",
   "execution_count": 15,
   "metadata": {},
   "outputs": [
    {
     "data": {
      "text/plain": [
       "0.047717082994305576"
      ]
     },
     "execution_count": 15,
     "metadata": {},
     "output_type": "execute_result"
    }
   ],
   "source": [
    "f(1000)"
   ]
  },
  {
   "cell_type": "code",
   "execution_count": null,
   "metadata": {},
   "outputs": [],
   "source": []
  }
 ],
 "metadata": {
  "kernelspec": {
   "display_name": "Python 3",
   "language": "python",
   "name": "python3"
  },
  "language_info": {
   "codemirror_mode": {
    "name": "ipython",
    "version": 3
   },
   "file_extension": ".py",
   "mimetype": "text/x-python",
   "name": "python",
   "nbconvert_exporter": "python",
   "pygments_lexer": "ipython3",
   "version": "3.8.3"
  }
 },
 "nbformat": 4,
 "nbformat_minor": 4
}
