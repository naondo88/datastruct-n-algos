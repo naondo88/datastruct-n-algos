{
 "cells": [
  {
   "cell_type": "code",
   "execution_count": 1,
   "metadata": {},
   "outputs": [],
   "source": [
    "class Stack:\n",
    "    \"\"\"This is an implementation of a Stack.\"\"\"\n",
    "    def __init__(self, *items):\n",
    "        self.stack = []\n",
    "        for item in items:\n",
    "            self.push(item)\n",
    "            \n",
    "    def push(self, item):\n",
    "        self.stack = [item, self.stack]\n",
    "        \n",
    "    def pop(self):\n",
    "        if self.stack:\n",
    "            item, self.stack = self.stack\n",
    "            return item\n",
    "        else:\n",
    "            raise IndexError(\"Stack is empty, cannot pop\")\n",
    "    \n",
    "    def peek(self):\n",
    "        return self.stack[0]\n",
    "    \n",
    "    def __bool__(self):\n",
    "        return bool(self.stack)\n",
    "    \n",
    "    def __repr__(self):\n",
    "        return str(self.stack)\n"
   ]
  },
  {
   "cell_type": "code",
   "execution_count": 2,
   "metadata": {},
   "outputs": [
    {
     "data": {
      "text/plain": [
       "[3, [2, [1, []]]]"
      ]
     },
     "execution_count": 2,
     "metadata": {},
     "output_type": "execute_result"
    }
   ],
   "source": [
    "Stack(1, 2, 3)"
   ]
  },
  {
   "cell_type": "code",
   "execution_count": 3,
   "metadata": {},
   "outputs": [
    {
     "data": {
      "text/plain": [
       "[]"
      ]
     },
     "execution_count": 3,
     "metadata": {},
     "output_type": "execute_result"
    }
   ],
   "source": [
    "Stack()"
   ]
  },
  {
   "cell_type": "code",
   "execution_count": 4,
   "metadata": {},
   "outputs": [
    {
     "data": {
      "text/plain": [
       "[3, [2, [1, []]]]"
      ]
     },
     "execution_count": 4,
     "metadata": {},
     "output_type": "execute_result"
    }
   ],
   "source": [
    "xstack = Stack(1, 2, 3)\n",
    "\n",
    "xstack"
   ]
  },
  {
   "cell_type": "code",
   "execution_count": 5,
   "metadata": {},
   "outputs": [
    {
     "name": "stdout",
     "output_type": "stream",
     "text": [
      "xstack pre-push: [3, [2, [1, []]]]\n",
      "post xstack.push('a'): ['a', [3, [2, [1, []]]]]\n",
      "popped value: a \n",
      "post xstack.pop(): [3, [2, [1, []]]]\n"
     ]
    }
   ],
   "source": [
    "print(\"xstack pre-push:\", xstack)\n",
    "xstack.push(\"a\")\n",
    "print(\"post xstack.push('a'):\", xstack)\n",
    "print(\"popped value:\", xstack.pop(), \"\\npost xstack.pop():\", xstack)"
   ]
  },
  {
   "cell_type": "markdown",
   "metadata": {},
   "source": [
    "---\n",
    "# Problems using Stacks"
   ]
  },
  {
   "cell_type": "markdown",
   "metadata": {},
   "source": [
    "### Are Parentheses Balanced?"
   ]
  },
  {
   "cell_type": "code",
   "execution_count": null,
   "metadata": {},
   "outputs": [],
   "source": []
  }
 ],
 "metadata": {
  "kernelspec": {
   "display_name": "Python 3",
   "language": "python",
   "name": "python3"
  },
  "language_info": {
   "codemirror_mode": {
    "name": "ipython",
    "version": 3
   },
   "file_extension": ".py",
   "mimetype": "text/x-python",
   "name": "python",
   "nbconvert_exporter": "python",
   "pygments_lexer": "ipython3",
   "version": "3.8.3"
  }
 },
 "nbformat": 4,
 "nbformat_minor": 4
}
