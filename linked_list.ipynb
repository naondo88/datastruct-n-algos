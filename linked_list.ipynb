{
 "cells": [
  {
   "cell_type": "code",
   "execution_count": 44,
   "metadata": {},
   "outputs": [],
   "source": [
    "class LinkedList:\n",
    "    \"\"\"This provides a linked list container for data.\n",
    "    \n",
    "    Items packed in via nodes expressed as [<item>, <next_node>].  So it's a deeply nested structure, i.e.\n",
    "    LinkedList(1,2,3).head = [None, [1, [2, [3, None]]]]\n",
    "    \"\"\"\n",
    "    def __init__(self, *items):\n",
    "        if not items:\n",
    "            self.head = [None, None]\n",
    "            self.size = 0\n",
    "        else:\n",
    "            self.head = [items[0], None]\n",
    "            self.size = len(items)\n",
    "\n",
    "            i = 1\n",
    "            node = self.head\n",
    "            while i < self.size:\n",
    "                new_node = [items[i], None]\n",
    "                node[1] = new_node\n",
    "                node = new_node\n",
    "                i += 1\n",
    "\n",
    "    def __len__(self):\n",
    "        return self.size\n",
    "            \n",
    "    def __iter__(self):\n",
    "        if self.size == 0:\n",
    "            return\n",
    "        \n",
    "        next_node = self.head\n",
    "        while next_node:\n",
    "            yield next_node[0]\n",
    "            next_node = next_node[1]\n",
    "            \n",
    "    def __contains__(self, val):\n",
    "        for item in self:\n",
    "            if item == val:\n",
    "                return True\n",
    "        else:\n",
    "            return False\n",
    "            \n",
    "    def __getitem__(self, idx):\n",
    "        if not isinstance(idx, int):\n",
    "            raise TypeError(\"Index must be an integer.\")\n",
    "        if idx < 0:\n",
    "            idx = self.size + idx\n",
    "        \n",
    "        for cur_idx, item in enumerate(self):\n",
    "            if cur_idx == idx:\n",
    "                return item\n",
    "        \n",
    "        raise IndexError(f\"Index {idx} is out of bounds!\")\n",
    "\n",
    "    def __repr__(self):\n",
    "        str_of_items = \", \".join((str(item) for item in self))\n",
    "        return f\"LinkedList({str_of_items})\"\n",
    "\n",
    "    def append(self, new_item):\n",
    "        node = self.head\n",
    "        while (next_node:=node[1]):\n",
    "            node = next_node\n",
    "        \n",
    "        node[1] = [new_item, None]\n",
    "        self.size += 1\n"
   ]
  },
  {
   "cell_type": "code",
   "execution_count": 45,
   "metadata": {},
   "outputs": [
    {
     "data": {
      "text/plain": [
       "LinkedList(1, 2, 3)"
      ]
     },
     "execution_count": 45,
     "metadata": {},
     "output_type": "execute_result"
    }
   ],
   "source": [
    "LinkedList(1,2,3)"
   ]
  },
  {
   "cell_type": "code",
   "execution_count": 50,
   "metadata": {},
   "outputs": [
    {
     "name": "stdout",
     "output_type": "stream",
     "text": [
      "First item: 1, last item: 4\n"
     ]
    }
   ],
   "source": [
    "x = LinkedList(1,2,3,4)\n",
    "\n",
    "print(f\"First item: {x[0]}, last item: {x[-1]}\")"
   ]
  },
  {
   "cell_type": "code",
   "execution_count": 51,
   "metadata": {},
   "outputs": [
    {
     "data": {
      "text/plain": [
       "True"
      ]
     },
     "execution_count": 51,
     "metadata": {},
     "output_type": "execute_result"
    }
   ],
   "source": [
    "1 in x"
   ]
  },
  {
   "cell_type": "code",
   "execution_count": 52,
   "metadata": {},
   "outputs": [
    {
     "name": "stdout",
     "output_type": "stream",
     "text": [
      "1\n",
      "2\n",
      "3\n",
      "4\n"
     ]
    }
   ],
   "source": [
    "for item in x:\n",
    "    print(item)"
   ]
  },
  {
   "cell_type": "code",
   "execution_count": 53,
   "metadata": {},
   "outputs": [
    {
     "data": {
      "text/plain": [
       "LinkedList(1, 2, 3, 4, 5)"
      ]
     },
     "execution_count": 53,
     "metadata": {},
     "output_type": "execute_result"
    }
   ],
   "source": [
    "x.append(5)\n",
    "\n",
    "x"
   ]
  },
  {
   "cell_type": "code",
   "execution_count": null,
   "metadata": {},
   "outputs": [],
   "source": []
  }
 ],
 "metadata": {
  "kernelspec": {
   "display_name": "Python 3",
   "language": "python",
   "name": "python3"
  },
  "language_info": {
   "codemirror_mode": {
    "name": "ipython",
    "version": 3
   },
   "file_extension": ".py",
   "mimetype": "text/x-python",
   "name": "python",
   "nbconvert_exporter": "python",
   "pygments_lexer": "ipython3",
   "version": "3.8.3"
  }
 },
 "nbformat": 4,
 "nbformat_minor": 4
}
