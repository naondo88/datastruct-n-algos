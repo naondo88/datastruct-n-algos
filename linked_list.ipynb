{
 "cells": [
  {
   "cell_type": "markdown",
   "metadata": {},
   "source": [
    "---\n",
    "# Core implementation of Linked List"
   ]
  },
  {
   "cell_type": "code",
   "execution_count": 1,
   "metadata": {},
   "outputs": [],
   "source": [
    "def _standardize_start_stop(start, stop, size):\n",
    "    \"\"\"Convenience function for standardizing start, stop indexes\n",
    "    for slicing functionality.\n",
    "    \n",
    "    It pushes start and stop into the range [0, size].\n",
    "     1. Allows for negative indexing, -i -> size-i\n",
    "     2. Replaces default None from slice() with expected start/stop values.\n",
    "    \"\"\"\n",
    "    try:\n",
    "        if start is None:\n",
    "            start = 0\n",
    "        elif start < 0:\n",
    "            start += size\n",
    "\n",
    "        if stop is None:\n",
    "            # Note: This means for slicing, None gives the exclusive end of slice.\n",
    "            #       Therefore, obj[i:] -> [obj[i], obj[i+1], ..., obj[-1]] correctly.\n",
    "            stop = size\n",
    "        elif stop < 0:\n",
    "            stop += size\n",
    "    except TypeError:\n",
    "        raise TypeError(\"Start and stop index must be integer.\")\n",
    "\n",
    "    return start, stop\n"
   ]
  },
  {
   "cell_type": "code",
   "execution_count": 2,
   "metadata": {},
   "outputs": [],
   "source": [
    "class _BaseLinkedList:\n",
    "    \"\"\"This is implementation of a forward, singlely-linked list.\n",
    "    \n",
    "    Attributes:\n",
    "      ._head\n",
    "      ._size\n",
    "    \n",
    "    Methods:\n",
    "      ._load_list(self, start, stop)\n",
    "      ._iternodes(start=None, stop=None)\n",
    "      ._get_node(idx)\n",
    "      \n",
    "    Notes:\n",
    "    \n",
    "    Items packed in via nodes expressed as node=[<item>, <next_node>].  So it's a deeply nested structure, i.e.\n",
    "    >>> LinkedList(1, 2, 3)._head == [1, [2, [3, None]]]\n",
    "    True\n",
    "    \n",
    "    Carries information about the size of the linked list as a member variable:\n",
    "    >>> LinkedList(1, 2, 3)._size\n",
    "    3\n",
    "    \"\"\"\n",
    "    \n",
    "    def __init__(self, *items):\n",
    "        self._load_list(*items)\n",
    "    \n",
    "    def _load_list(self, *items):\n",
    "        \"\"\"Loads items into nested [a_0, [a_1, ..., [a_n-1, None]]] structure.\"\"\"\n",
    "        self._size = len(items)\n",
    "        \n",
    "        if not items:\n",
    "            self._head = []\n",
    "        else:\n",
    "            self._head = [items[0], None]\n",
    "            i = 1\n",
    "            node = self._head\n",
    "            while i < self._size:\n",
    "                new_node = [items[i], None]\n",
    "                node[1] = new_node\n",
    "                node = new_node\n",
    "                i += 1\n",
    "        \n",
    "    def _iternodes(self, start=None, stop=None):\n",
    "        \"\"\"Iterates through the nodes, returning each node at a time.\n",
    "        \n",
    "        Parameters:\n",
    "         * start : [None, int]\n",
    "           Start with node at index=start.\n",
    "         * stop : [None, int]\n",
    "           Stop yielding nodes at index=stop (i.e. exclusive end).\n",
    "        \"\"\"\n",
    "        start, stop = _standardize_start_stop(start, stop, self._size)\n",
    "        \n",
    "        if start == 0 and stop == self._size:\n",
    "            node = self._head\n",
    "            while node:\n",
    "                yield node\n",
    "                node = node[1]\n",
    "        else:\n",
    "            node = self._head\n",
    "            i = 0\n",
    "            while node:\n",
    "                if start <= i < stop:\n",
    "                    yield node\n",
    "                elif i == stop:\n",
    "                    break\n",
    "                node = node[1]\n",
    "                i += 1\n",
    "\n",
    "    def _get_node(self, idx):\n",
    "        if idx < 0:\n",
    "            idx += self._size\n",
    "        \n",
    "        node = self._head\n",
    "        i = 0\n",
    "        while node:\n",
    "            if i == idx:\n",
    "                return node\n",
    "            \n",
    "            node = node[1]\n",
    "            i += 1\n",
    "        \n",
    "        # If nothing returned, it means index is out of bounds.\n",
    "        raise IndexError(\"Index out of bounds.\")\n"
   ]
  },
  {
   "cell_type": "markdown",
   "metadata": {},
   "source": [
    "### Mock-ups for tests:"
   ]
  },
  {
   "cell_type": "code",
   "execution_count": 3,
   "metadata": {},
   "outputs": [
    {
     "data": {
      "text/plain": [
       "[1, [2, [3, None]]]"
      ]
     },
     "execution_count": 3,
     "metadata": {},
     "output_type": "execute_result"
    }
   ],
   "source": [
    "x = _BaseLinkedList(1, 2, 3)\n",
    "\n",
    "x._get_node(0)"
   ]
  },
  {
   "cell_type": "code",
   "execution_count": 4,
   "metadata": {},
   "outputs": [
    {
     "name": "stdout",
     "output_type": "stream",
     "text": [
      "[1, [2, [3, None]]]\n",
      "[2, [3, None]]\n",
      "[3, None]\n"
     ]
    }
   ],
   "source": [
    "for node in x._iternodes():\n",
    "    print(node)"
   ]
  },
  {
   "cell_type": "code",
   "execution_count": 5,
   "metadata": {},
   "outputs": [
    {
     "name": "stdout",
     "output_type": "stream",
     "text": [
      "Succeeded, IndexError('Index out of bounds.') raised on index -4.\n",
      "Succeeded, IndexError('Index out of bounds.') raised on index 4.\n"
     ]
    }
   ],
   "source": [
    "try:\n",
    "    x._get_node(-4)\n",
    "    raise Exception(\"Failure: IndexError not called!\")\n",
    "except IndexError as e:\n",
    "    print(f\"Succeeded, IndexError('{e}') raised on index -4.\")\n",
    "    \n",
    "try:\n",
    "    x._get_node(4)\n",
    "    raise Exception(\"Failure: IndexError not called!\")\n",
    "except IndexError as e:\n",
    "    print(f\"Succeeded, IndexError('{e}') raised on index 4.\")"
   ]
  },
  {
   "cell_type": "markdown",
   "metadata": {},
   "source": [
    "---\n",
    "# Linked List in Python"
   ]
  },
  {
   "cell_type": "code",
   "execution_count": 6,
   "metadata": {},
   "outputs": [],
   "source": [
    "class LinkedList(_BaseLinkedList):\n",
    "    \"\"\"This provides a linked list container for data.\"\"\"\n",
    "    def __init__(self, *items):\n",
    "        self._load_list(*items)\n",
    "    \n",
    "    def __len__(self):\n",
    "        return self._size\n",
    "            \n",
    "    def __iter__(self):\n",
    "        for (item, _) in self._iternodes():\n",
    "            yield item\n",
    "    \n",
    "    def __contains__(self, val):\n",
    "        for (item, _) in self._iternodes():\n",
    "            if item == val:\n",
    "                return True\n",
    "        return False\n",
    "    \n",
    "    def __getitem__(self, key):\n",
    "        if isinstance(key, int):\n",
    "            item, _ = self._get_node(key)\n",
    "            return item\n",
    "        elif isinstance(key, slice):\n",
    "            if key.step != None:\n",
    "                raise ValueError(\"Slicing with steps not implemented for LinkedList.\")\n",
    "            \n",
    "            start, stop = _standardize_start_stop(key.start, key.stop, self._size)\n",
    "            items = []\n",
    "            for (item, _) in self._iternodes(start, stop):\n",
    "                items.append(item)\n",
    "            return items\n",
    "        else:\n",
    "            raise TypeError(\"Index must be integer or slice.\")\n",
    "\n",
    "    def __repr__(self):\n",
    "        str_of_items = \", \".join((str(item) for item in self))\n",
    "        return f\"LinkedList({str_of_items})\"\n",
    "    \n",
    "    def append(self, new_item):\n",
    "        node = self._get_node(-1)\n",
    "        node[1] = [new_item, None]\n",
    "        self._size += 1\n",
    "        \n",
    "    def prepend(self, new_item):\n",
    "        self._head = [new_item, self._head]\n",
    "        self._size += 1\n",
    "        \n",
    "    def insert(self, idx, new_item):\n",
    "        node = self._get_node(idx)\n",
    "        next_node = node[1]\n",
    "        node[1] = [new_item, next_node]\n",
    "        self._size += 1\n"
   ]
  },
  {
   "cell_type": "code",
   "execution_count": 7,
   "metadata": {},
   "outputs": [
    {
     "data": {
      "text/plain": [
       "LinkedList(1, 2, 4)"
      ]
     },
     "execution_count": 7,
     "metadata": {},
     "output_type": "execute_result"
    }
   ],
   "source": [
    "xlist = LinkedList(1,2,4)\n",
    "xlist"
   ]
  },
  {
   "cell_type": "code",
   "execution_count": 8,
   "metadata": {},
   "outputs": [
    {
     "data": {
      "text/plain": [
       "LinkedList(0, 1, 2, 4)"
      ]
     },
     "execution_count": 8,
     "metadata": {},
     "output_type": "execute_result"
    }
   ],
   "source": [
    "xlist.prepend(0)\n",
    "xlist"
   ]
  },
  {
   "cell_type": "code",
   "execution_count": 9,
   "metadata": {},
   "outputs": [
    {
     "data": {
      "text/plain": [
       "LinkedList(0, 1, 2, 4, 5)"
      ]
     },
     "execution_count": 9,
     "metadata": {},
     "output_type": "execute_result"
    }
   ],
   "source": [
    "xlist.append(5)\n",
    "xlist"
   ]
  },
  {
   "cell_type": "code",
   "execution_count": 10,
   "metadata": {},
   "outputs": [
    {
     "data": {
      "text/plain": [
       "LinkedList(0, 1, 2, 3, 4, 5)"
      ]
     },
     "execution_count": 10,
     "metadata": {},
     "output_type": "execute_result"
    }
   ],
   "source": [
    "xlist.insert(idx=2, new_item=3)\n",
    "xlist"
   ]
  },
  {
   "cell_type": "code",
   "execution_count": 11,
   "metadata": {},
   "outputs": [
    {
     "name": "stdout",
     "output_type": "stream",
     "text": [
      "0\n",
      "1\n",
      "2\n",
      "3\n",
      "4\n",
      "5\n"
     ]
    }
   ],
   "source": [
    "for item in xlist:\n",
    "    print(item)"
   ]
  },
  {
   "cell_type": "code",
   "execution_count": 12,
   "metadata": {},
   "outputs": [
    {
     "name": "stdout",
     "output_type": "stream",
     "text": [
      "First item: 0, last item: 5\n"
     ]
    }
   ],
   "source": [
    "print(f\"First item: {xlist[0]}, last item: {xlist[-1]}\")"
   ]
  },
  {
   "cell_type": "code",
   "execution_count": 13,
   "metadata": {},
   "outputs": [
    {
     "name": "stdout",
     "output_type": "stream",
     "text": [
      " xlist[1:3] = [1, 2]\n",
      " xlist[:2] = [0, 1]\n",
      " xlist[2:] = [2, 3, 4, 5]\n",
      " xlist[:] = [0, 1, 2, 3, 4, 5]\n"
     ]
    }
   ],
   "source": [
    "1\n",
    "2\n",
    "print(f\" xlist[1:3] = {xlist[1:3]}\\n xlist[:2] = {xlist[:2]}\\n xlist[2:] = {xlist[2:]}\\n xlist[:] = {xlist[:]}\")"
   ]
  },
  {
   "cell_type": "code",
   "execution_count": 14,
   "metadata": {},
   "outputs": [
    {
     "data": {
      "text/plain": [
       "True"
      ]
     },
     "execution_count": 14,
     "metadata": {},
     "output_type": "execute_result"
    }
   ],
   "source": [
    "1 in xlist"
   ]
  },
  {
   "cell_type": "markdown",
   "metadata": {},
   "source": [
    "---\n",
    "# DoublyLinkedList Implementation"
   ]
  },
  {
   "cell_type": "code",
   "execution_count": 15,
   "metadata": {},
   "outputs": [],
   "source": [
    "class _BaseDoublyLinkedList:\n",
    "    \"\"\"This is implementation of a forward, singlely-linked list.\n",
    "    \n",
    "    Attributes:\n",
    "      ._head\n",
    "      ._size\n",
    "    \n",
    "    Methods:\n",
    "      ._load_list(self, start, stop)\n",
    "      ._iternodes(start=None, stop=None)\n",
    "      ._get_node(idx)\n",
    "      \n",
    "    Notes:\n",
    "    \n",
    "    Items packed in via nodes expressed as node=[<item>, <next_node>].  So it's a deeply nested structure, i.e.\n",
    "    >>> LinkedList(1, 2, 3)._head == [1, [2, [3, None]]]\n",
    "    True\n",
    "    \n",
    "    Carries information about the size of the linked list as a member variable:\n",
    "    >>> LinkedList(1, 2, 3)._size\n",
    "    3\n",
    "    \"\"\"\n",
    "    \n",
    "    def __init__(self, *items):\n",
    "        self._load_list(*items)\n",
    "    \n",
    "    def _load_list(self, *items):\n",
    "        \"\"\"Loads items into nested [a_0, [a_1, ..., [a_n-1, None]]] structure.\"\"\"\n",
    "        \n",
    "        self._size = len(items)\n",
    "    \n",
    "        if not items:\n",
    "            self._head = []\n",
    "            self._tail = []\n",
    "        else:\n",
    "            self._head = [items[0], None, None]\n",
    "            i = 1\n",
    "            node = self._head\n",
    "            while i < self._size:\n",
    "                new_node = [items[i], None, node]\n",
    "                node[1] = new_node\n",
    "                node = new_node\n",
    "                i += 1\n",
    "            self._tail = node\n",
    "\n",
    "    def _iternodes(self, start=None, stop=None):\n",
    "        \"\"\"Iterates through the nodes, returning each node at a time.\n",
    "        \n",
    "        Parameters:\n",
    "         * start : [None, int]\n",
    "           Start with node at index=start.\n",
    "         * stop : [None, int]\n",
    "           Stop yielding nodes at index=stop (i.e. exclusive end).\n",
    "        \"\"\"\n",
    "        \n",
    "        start, stop = _standardize_start_stop(start, stop, self._size)\n",
    "        # Just loop through if full list if full range requested.\n",
    "        if start == 0 and stop == self._size:\n",
    "            node = self._head\n",
    "            prev_node = []\n",
    "            while node:\n",
    "                yield node\n",
    "                node = node[1]\n",
    "        # Otherwise, narrow yields down to requested range.\n",
    "        else:\n",
    "            node = self._head\n",
    "            i = 0\n",
    "            while node:\n",
    "                if start <= i < stop:\n",
    "                    yield node\n",
    "                elif i == stop:\n",
    "                    break\n",
    "                node = node[1]\n",
    "                i += 1\n",
    "\n",
    "    def _reversed_iternodes(self, start=None, stop=None):\n",
    "        \"\"\"Iterates through the nodes, returning each node at a time.\n",
    "        \n",
    "        Parameters:\n",
    "         * start : [None, int]\n",
    "           Start with node at index=start.\n",
    "         * stop : [None, int]\n",
    "           Stop yielding nodes at index=stop (i.e. exclusive end).\n",
    "        \"\"\"\n",
    "\n",
    "        start, stop = _standardize_start_stop(start, stop, self._size)\n",
    "        \n",
    "        # Just loop through if full list if full range requested.\n",
    "        if start == 0 and stop == self._size:\n",
    "            node = self._tail\n",
    "            while node:\n",
    "                yield node\n",
    "                node = node[2]\n",
    "        # Otherwise, narrow yields down to requested range.\n",
    "        else:\n",
    "            node = self._tail\n",
    "            i = self._size-1\n",
    "            while node:\n",
    "                if start <= i < stop:\n",
    "                    yield node\n",
    "                elif i == start:\n",
    "                    break\n",
    "                node = node[2]\n",
    "                i -= 1\n",
    "\n",
    "    def _get_node(self, idx):\n",
    "        if idx < 0:\n",
    "            idx += self._size\n",
    "        \n",
    "        node = self._head\n",
    "        i = 0\n",
    "        while node:\n",
    "            if i == idx:\n",
    "                return node\n",
    "            \n",
    "            node = node[1]\n",
    "            i += 1\n",
    "        \n",
    "        # If nothing returned, it means index is out of bounds.\n",
    "        raise IndexError(\"Index out of bounds.\")\n"
   ]
  },
  {
   "cell_type": "code",
   "execution_count": 16,
   "metadata": {},
   "outputs": [],
   "source": [
    "class DoublyLinkedList(_BaseDoublyLinkedList):\n",
    "    \"\"\"This provides a doubly-linked list container for data.\"\"\"\n",
    "    \n",
    "    def __init__(self, *items):\n",
    "        self._load_list(*items)\n",
    "    \n",
    "    def __len__(self):\n",
    "        return self._size\n",
    "            \n",
    "    def __iter__(self):\n",
    "        for (item, _, _) in self._iternodes():\n",
    "            yield item\n",
    "            \n",
    "    def __reversed__(self):\n",
    "        for (item, _, _) in self._reversed_iternodes():\n",
    "            yield item\n",
    "\n",
    "    def __contains__(self, val):\n",
    "        for (item, _, _) in self._iternodes():\n",
    "            if item == val:\n",
    "                return True\n",
    "        return False\n",
    "\n",
    "    def __getitem__(self, key):\n",
    "        if isinstance(key, int):\n",
    "            item, _, _ = self._get_node(key)\n",
    "            return item\n",
    "        elif isinstance(key, slice):\n",
    "            if key.step != None:\n",
    "                raise ValueError(\"Slicing with steps not implemented for LinkedList.\")\n",
    "\n",
    "            start, stop = _standardize_start_stop(key.start, key.stop, self._size)\n",
    "            items = []\n",
    "            for (item, _, _) in self._iternodes(start, stop):\n",
    "                items.append(item)\n",
    "            return items\n",
    "        else:\n",
    "            raise TypeError(\"Index must be integer or slice.\")\n",
    "\n",
    "    def __repr__(self):\n",
    "        str_of_items = \", \".join((str(item) for item in self))\n",
    "        return f\"DoublyLinkedList({str_of_items})\"\n",
    "\n",
    "    def append(self, new_item):\n",
    "        node = [new_item, None, self._tail]\n",
    "        self._tail[1] = node \n",
    "        self._tail = node\n",
    "\n",
    "        self._size += 1\n",
    "\n",
    "    def prepend(self, new_item):\n",
    "        node = [new_item, self._head, None]\n",
    "        self._head[2] = node\n",
    "        self._head = node\n",
    "        \n",
    "        self._size += 1\n",
    "\n",
    "    def insert(self, idx, new_item):\n",
    "        node = self._get_node(idx)\n",
    "        prev_node = node[2]\n",
    "        new_node = [new_item, node, prev_node]\n",
    "        prev_node[1] = new_node\n",
    "        node[2] = new_node\n",
    "\n",
    "        self._size += 1\n"
   ]
  },
  {
   "cell_type": "markdown",
   "metadata": {},
   "source": [
    "### Mock-up for tests:"
   ]
  },
  {
   "cell_type": "code",
   "execution_count": 17,
   "metadata": {},
   "outputs": [
    {
     "name": "stdout",
     "output_type": "stream",
     "text": [
      "1\n",
      "2\n",
      "3\n",
      "4\n",
      "\n",
      "4\n",
      "3\n",
      "2\n",
      "1\n"
     ]
    }
   ],
   "source": [
    "xlist = DoublyLinkedList(1, 2, 3, 4)\n",
    "\n",
    "for item in xlist:\n",
    "    print(item)\n",
    "print()\n",
    "\n",
    "for item in reversed(xlist):\n",
    "    print(item)"
   ]
  },
  {
   "cell_type": "code",
   "execution_count": 18,
   "metadata": {},
   "outputs": [
    {
     "data": {
      "text/plain": [
       "3"
      ]
     },
     "execution_count": 18,
     "metadata": {},
     "output_type": "execute_result"
    }
   ],
   "source": [
    "xlist[2]"
   ]
  },
  {
   "cell_type": "code",
   "execution_count": 19,
   "metadata": {},
   "outputs": [
    {
     "data": {
      "text/plain": [
       "True"
      ]
     },
     "execution_count": 19,
     "metadata": {},
     "output_type": "execute_result"
    }
   ],
   "source": [
    "2 in xlist"
   ]
  },
  {
   "cell_type": "code",
   "execution_count": 20,
   "metadata": {},
   "outputs": [
    {
     "data": {
      "text/plain": [
       "DoublyLinkedList(0, 1, 2, 3, 4)"
      ]
     },
     "execution_count": 20,
     "metadata": {},
     "output_type": "execute_result"
    }
   ],
   "source": [
    "xlist.prepend(0)\n",
    "xlist"
   ]
  },
  {
   "cell_type": "code",
   "execution_count": 21,
   "metadata": {},
   "outputs": [
    {
     "data": {
      "text/plain": [
       "DoublyLinkedList(0, 1, 2, 3, 4, 5)"
      ]
     },
     "execution_count": 21,
     "metadata": {},
     "output_type": "execute_result"
    }
   ],
   "source": [
    "xlist.append(5)\n",
    "xlist"
   ]
  }
 ],
 "metadata": {
  "kernelspec": {
   "display_name": "Python 3",
   "language": "python",
   "name": "python3"
  },
  "language_info": {
   "codemirror_mode": {
    "name": "ipython",
    "version": 3
   },
   "file_extension": ".py",
   "mimetype": "text/x-python",
   "name": "python",
   "nbconvert_exporter": "python",
   "pygments_lexer": "ipython3",
   "version": "3.8.3"
  }
 },
 "nbformat": 4,
 "nbformat_minor": 4
}
